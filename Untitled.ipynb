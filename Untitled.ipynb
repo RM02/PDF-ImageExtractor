{
 "cells": [
  {
   "cell_type": "code",
   "execution_count": 4,
   "metadata": {},
   "outputs": [],
   "source": [
    "#Libraries\n",
    "from PyPDF2 import PdfFileReader\n",
    "from PIL import Image"
   ]
  },
  {
   "cell_type": "code",
   "execution_count": 7,
   "metadata": {},
   "outputs": [],
   "source": [
    "def pdf(path):\n",
    "    n_img = 0\n",
    "    with open(path, 'rb') as f:\n",
    "        pdf = PdfFileReader(f)\n",
    "        number_of_pages = pdf.getNumPages()\n",
    "        information = pdf.getDocumentInfo()\n",
    "\n",
    "        #Metadata \n",
    "        try:\n",
    "            print(\"File name:\", information['/Title'])\n",
    "            print(\"Number of page:\", number_of_pages)\n",
    "        except:\n",
    "            pass\n",
    "        \n",
    "        # Extracting images from each pages \n",
    "        for n in range(0, number_of_pages):\n",
    "            page = pdf.getPage(n)\n",
    "            try:\n",
    "                xObject = page['/Resources']['/XObject'].getObject()\n",
    "                for obj in xObject:\n",
    "                    if xObject[obj]['/Subtype'] == '/Image':\n",
    "                        size = (xObject[obj]['/Width'], xObject[obj]['/Height'])\n",
    "                        data = xObject[obj].getData()\n",
    "                        if xObject[obj]['/ColorSpace'] == '/DeviceRGB':\n",
    "                            mode = \"RGB\"\n",
    "                        else:\n",
    "                            mode = \"P\"\n",
    "\n",
    "                        if xObject[obj]['/Filter'] == '/FlateDecode':\n",
    "                            img = Image.frombytes(mode, size, data)\n",
    "                            img.save(obj[1:] + \".png\")\n",
    "                            n_img += 1\n",
    "                        elif xObject[obj]['/Filter'] == '/DCTDecode':\n",
    "                            img = open(obj[1:] + \".jpg\", \"wb\")\n",
    "                            img.write(data)\n",
    "                            img.close()\n",
    "                        elif xObject[obj]['/Filter'] == '/JPXDecode':\n",
    "                            img = open(obj[1:] + \".jp2\", \"wb\")\n",
    "                            img.write(data)\n",
    "                            img.close()\n",
    "            except:\n",
    "                pass\n",
    "    print(\"Total images extracted:\", n_img)\n"
   ]
  },
  {
   "cell_type": "code",
   "execution_count": 8,
   "metadata": {},
   "outputs": [
    {
     "name": "stdout",
     "output_type": "stream",
     "text": [
      "Total images extracted: 0\n"
     ]
    }
   ],
   "source": [
    "pdf('REPORTE.pdf')"
   ]
  },
  {
   "cell_type": "code",
   "execution_count": null,
   "metadata": {},
   "outputs": [],
   "source": []
  }
 ],
 "metadata": {
  "kernelspec": {
   "display_name": "Python 3",
   "language": "python",
   "name": "python3"
  },
  "language_info": {
   "codemirror_mode": {
    "name": "ipython",
    "version": 3
   },
   "file_extension": ".py",
   "mimetype": "text/x-python",
   "name": "python",
   "nbconvert_exporter": "python",
   "pygments_lexer": "ipython3",
   "version": "3.7.8"
  }
 },
 "nbformat": 4,
 "nbformat_minor": 4
}
